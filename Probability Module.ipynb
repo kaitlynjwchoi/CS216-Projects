{
 "cells": [
  {
   "cell_type": "markdown",
   "metadata": {},
   "source": [
    "# Homework 3\n",
    "In this exercise, you will demonstrate your learning by solving probability problems. Many of these will be math problems. You can write your answers in Markdown cells. Recall that you can use LaTeX to nicely format your math inside Markdown cells by enclosing equations in single dollar signs (e.g., $x^2+4=8$) for inline math or double dollar signs for centered equations like $$P(X > 5) = \\frac{1}{6}.$$\n",
    "\n",
    "For a reference if you are new to LaTeX, see the [overleaf documentation for mathematical expressions](https://www.overleaf.com/learn/latex/mathematical_expressions). Some particular LaTeX commands you might find useful include:\n",
    "- To write a fraction, use `\\frac{numerator}{denominator}` like $\\frac{3}{4}$\n",
    "- To write set intersection and union use `\\cap` and `\\cup` respectively like $A \\cap B$ and $A \\cup B$.\n",
    "- To write a bar over something (like a set complement) use `\\overline{}` like in $\\overline{E}$.\n",
    "- To write a subscript or superscript, use `_{}` or `^{}` as in $X_{n}$ or $X^{2}$.\n",
    "- To write a sum or product, use `\\sum` or `\\prod` as in $\\sum_{i=1}^{n} X_i$ or $\\prod_{i=1}^{n} X_i$.\n",
    "\n",
    "Show your work and/or briefly explain your answers. In general you will not receive full credit for numeric answers with no accompanying work or justification (math, code, explanation), and we can't give you partial credit if you don't show your work. Remember the example in the practice.\n",
    "\n",
    "When you finish please go to Kernel --> Restart and Run All, and then double check that your notebook looks correct before submitting your .ipynb file (the notebook file) on gradescope."
   ]
  },
  {
   "cell_type": "markdown",
   "metadata": {
    "editable": false
   },
   "source": [
    "## Question 1\n",
    "Suppose 600 individuals are on a cruise. Of the individuals:\n",
    "- 300 go snorkling\n",
    "- 450 have lunch at the restaurant\n",
    "- 200 go dancing \n",
    "- 200 go snorkling and have lunch at the restaurant\n",
    "- 100 go snorkling and go dancing\n",
    "- 100 have lunch at the restaurant and go dancing\n",
    "- 50 go snorkling, have lunch at the restaurant, and go dancing\n",
    "\n",
    "For each of the following, compute the probability that an individual chosen uniformly at random:\n",
    "1. goes snorkling and has lunch at the restaurant\n",
    "2. does not have lunch at the restaurant\n",
    "3. goes snorkling or goes dancing\n",
    "4. has lunch at the restaurant but does not go snorkling \n",
    "5. goes dancing given that they have lunch at the restaurant\n",
    "\n",
    "For the autograder, in the code cell, put question 1's answer in the variable `q1_1`, question 2's answer in `q1_2`, and so on. Show your work in the Markdown cell.\n",
    "\n",
    "<!--\n",
    "BEGIN QUESTION\n",
    "name: q1\n",
    "manual: False\n",
    "points:\n",
    "    - 0.5\n",
    "    - 0.5\n",
    "    - 1\n",
    "    - 0.5\n",
    "    - 0.5\n",
    "    - 1\n",
    "    - 0.5\n",
    "    - 0.5\n",
    "    - 1\n",
    "    - 0.5\n",
    "    - 0.5\n",
    "    - 1\n",
    "    - 0.5\n",
    "    - 0.5\n",
    "    - 1\n",
    "-->"
   ]
  },
  {
   "cell_type": "code",
   "execution_count": 2,
   "metadata": {},
   "outputs": [],
   "source": [
    "# Code for question 1 (or can use a hand calculator and show work)\n",
    "\n",
    "q1_1 = 1/3\n",
    "q1_2 = 1/4\n",
    "q1_3 = 2/3\n",
    "q1_4 = 5/12\n",
    "q1_5 = 2/9"
   ]
  },
  {
   "cell_type": "markdown",
   "metadata": {},
   "source": [
    "1) $P(snorkling \\cup restaurant) = \\frac{snorkling \\cap restaurant}{total} = \\frac{200}{600}$\n",
    "\n",
    "2) $P(\\overline{restaurant}) = 1 - P(restaurant) = 1 - \\frac{450}{600} = \\frac{150}{600}$\n",
    "\n",
    "3) $P(snorkling \\cup dancing) = P(snorkling) + P(dancing) - P(snorkling \\cap dancing) = \\frac{300}{600} + \\frac{200}{600} - \\frac{100}{600} = \\frac{400}{600}$\n",
    "\n",
    "4) $P(restaurant \\cap \\overline{snorkling}) = P(restaurant - restaurant \\cup snorkling) = \\frac{450 - 200}{600}$\n",
    "\n",
    "5) $P(dancing|restaurant) = \\frac{P(dancing \\cap restaurant)}{P(restaurant)} = \\frac{100/600}{450/600} = \\frac{100}{450}$"
   ]
  },
  {
   "cell_type": "markdown",
   "metadata": {
    "editable": false
   },
   "source": [
    "<!-- END QUESTION -->\n",
    "\n",
    "## Question 2\n",
    "\n",
    "1. Consider a rare genetic disorder that occurs with 5\\% probability. Individuals with the genetic disorder have a 60\\% probability to develop a particular medical condition whereas individuals without the disorder only have a 10\\% probability to develop the medical condition. What is the probably that a random individual from the entire population will develop the medical condition?\n",
    "\n",
    "2. Suppose that for a random student, there is an 80\\% probability of passing the final exam, a 90\\% chance of passing the course, and a 99\\% of passing the course given that the student passes the final exam. Given that a student passed the course, what is the probability that the student did not pass the final exam?  \n",
    "\n",
    "3. Suppose that 10\\% of the cars produced on an assembly line have some defect. The car manufacturer has a test for checking for defects and for cars with defects, it correctly finds the defect with 99\\% probability. However, for cars without defects, the test incorrectly reports a defect with 5\\% probability.  What is the probability that a car has no defect given that the test reports that it has a defect?\n",
    "\n",
    "For the autograder, in the code cell, put question 1's answer in the variable `q2_1` and so on. Show your work in the Markdown cell.\n",
    "\n",
    "<!--\n",
    "BEGIN QUESTION\n",
    "name: q2\n",
    "manual: false\n",
    "points:\n",
    "    - 0.5\n",
    "    - 0.5\n",
    "    - 1\n",
    "    - 0.5\n",
    "    - 0.5\n",
    "    - 1\n",
    "    - 0.5\n",
    "    - 0.5\n",
    "    - 1\n",
    "-->"
   ]
  },
  {
   "cell_type": "code",
   "execution_count": 3,
   "metadata": {},
   "outputs": [],
   "source": [
    "# Code for question 2 (or can use a hand calculator and show work)\n",
    "\n",
    "q2_1 = 0.125\n",
    "q2_2 = 0.12\n",
    "q2_3 = 0.3125"
   ]
  },
  {
   "cell_type": "markdown",
   "metadata": {},
   "source": [
    "1) $P(condition) = P(condition|disorder) * P(disorder) + P(condition|\\overline{disorder}) * P(\\overline{disorder}) = 0.6 *0.05 + 0.1 * 0.95$\n",
    "\n",
    "2) $P(\\overline{exam}|course) = 1 - P(exam|course) = \n",
    "1 - (\\frac{P(course|exam) * P(exam)}{P(course)}) = 1 - \\frac{0.99 * 0.8}{0.9}$\n",
    "\n",
    "3) $P(\\overline{defect}|detected) = \\frac{P(detected|\\overline{defect})*P(\\overline{defect})}{P(defect)*P(detected|defect) + P(\\overline{defect}) * P(detected|\\overline{defect})}$\n",
    "\n",
    "$= \\frac{0.05 * 0.9}{0.1*0.99 + 0.9*0.05}$"
   ]
  },
  {
   "cell_type": "markdown",
   "metadata": {
    "editable": false
   },
   "source": [
    "<!-- END QUESTION -->\n",
    "\n",
    "## Question 3\n",
    "1. Suppose you are playing a game of chance. You roll a single fair 6-sided die. If the result is odd, you win a number of dollars equal to the die roll. If the result is even, you lose a number of dollars equal to the die roll. What is the expected number of dollars you will win or lose playing this game once? \n",
    "\n",
    "2. You play another game of chance. It proceeds in three rounds. In each round you roll a single fair 6-sided die. In the first round, if you roll a 1 you get \\\\$1. In the second round if you roll a 2 you get \\\\$2. In the third round if you roll a 3 you get \\\\$3. If at the end you have not won any of the three rounds, you lose \\\\$3. What is the expected number of dollars you will win or lose playing this game once?\n",
    "\n",
    "For the autograder, in the code cell, put question 1's answer in the variable `q3_1` and question 2's answer in `q3_2`. Show your work in the Markdown cell.\n",
    "\n",
    "<!--\n",
    "BEGIN QUESTION\n",
    "name: q3\n",
    "manual: false\n",
    "points:\n",
    "    - 1\n",
    "    - 1\n",
    "    - 1\n",
    "    - 1\n",
    "-->"
   ]
  },
  {
   "cell_type": "code",
   "execution_count": 4,
   "metadata": {},
   "outputs": [],
   "source": [
    "# Code for question 2 (or can use a hand calculator and show work)\n",
    "\n",
    "q3_1 = -0.5\n",
    "q3_2 = -0.736"
   ]
  },
  {
   "cell_type": "markdown",
   "metadata": {},
   "source": [
    "To get the expected value, multiply each outcome with its respective probability and add all the values.\n",
    "\n",
    "1) Expected Value = $\\frac{1 - 2 + 3 - 4 + 5 - 6}{6} = \\frac{-3}{6}$\n",
    "\n",
    "2) Expected Value = $\\frac{1}{6} * \\frac{5}{6} *\\frac{5}{6} * 1 + \\frac{5}{6} * \\frac{1}{6} *\\frac{5}{6} * 2 + (\\frac{5}{6} * \\frac{5}{6} * \\frac{1}{6} + \\frac{1}{6}* \\frac{1}{6} * \\frac{5}{6}) * 3 + \\frac{1}{6} * \\frac{5}{6} * \\frac{1}{6} * 4 + \\frac{5}{6} * \\frac{1}{6} * \\frac{1}{6} * 5 + \\frac{1}{6} * \\frac{1}{6} * \\frac{1}{6} * 6 - \\frac{5}{6} * \\frac{5}{6} * \\frac{5}{6} * (-3)$"
   ]
  },
  {
   "cell_type": "markdown",
   "metadata": {
    "editable": false
   },
   "source": [
    "<!-- END QUESTION -->\n",
    "\n",
    "## Question 4\n",
    "Suppose you toss a coin $n$ times and observe that 51\\% of the time the result is heads. Assuming $n$ is large enough to use the central limit theorem, how large would $n$ need to be before you could conclude that the probability that the coin is fair (50/50 percent chance of heads or tails) is at most 5\\%? *Hint*: To calculate this it may help to define an appropriate random variable whose expectation is the quantity of interest based on a fair coin toss and calculate its variance.\n",
    "\n",
    "For the autograder, in the code cell, put your answer in the varialbe `q4`. Show your work in the Markdown cell.\n",
    "\n",
    "<!--\n",
    "BEGIN QUESTION\n",
    "name: q4\n",
    "manual: false\n",
    "points:\n",
    "    - 0.5\n",
    "    - 0.5\n",
    "    - 1\n",
    "-->"
   ]
  },
  {
   "cell_type": "code",
   "execution_count": 5,
   "metadata": {},
   "outputs": [],
   "source": [
    "# Code for question 4 (or can use a hand calculator and show work)\n",
    "\n",
    "q4 = 10000\n",
    "\n",
    "#solve for sigma squared\n",
    "#Apply CLT\n",
    "#P(xbar - expectation of x > 2sigma / 2sqrt(n)) <= 5\n",
    "#Compute n"
   ]
  },
  {
   "cell_type": "markdown",
   "metadata": {},
   "source": [
    "$v = \\sigma^{2} = E(x^{2}) - [E(x)]^{2} = 0.5*0^{2} + 0.5*1^{2} - 0.5^{2} = 0.25$\n",
    "\n",
    "$\\delta = 0.51 - 0.5 = 0.01 = \\frac{2\\sigma}{\\sqrt{n}}$ -> $n = \\frac{4(0.25)}{0.01^{2}} = 10000$"
   ]
  },
  {
   "cell_type": "markdown",
   "metadata": {},
   "source": [
    "<!-- END QUESTION -->\n",
    "\n",
    "\n",
    "\n",
    "## Question 5\n",
    "In the US presidential election, there are typically two candidates: a Democratic candidate and a Republican candidate. Each state has a number of electoral college votes. The candidate who wins the most votes in a state receives all of the electoral college votes for that particular state (there are a couple of exceptions, but to keep things simple we will assume this is how it works for all states). A candidate who wins at least 270 electoral college votes wins the national election. \n",
    "\n",
    "### The Data\n",
    "Below we import the `polls.csv` dataset describing the 2020 US presidential election and preview the first few rows. For each of the 50 states in the USA plus Washington D.C. (which has electoral college votes like a state), the dataset records:\n",
    "- `d_percent`: The percent of polled voters indicating they will vote for the Democratic candidate in the 2020 presidential election.\n",
    "- `r_percent`: The percent of polled voters indicating they will vote for the Republican candidate in the 2020 presidential election.\n",
    "- `ec_weight`: The number of electoral college votes controlled by the particular state.  \n",
    "\n",
    "### What you will do\n",
    "**In this question, you will write a Monte Carlo simulation to understand the probabilities of the following three events.** This is based roughly on the idea of computational models for predicting election outcomes such as those you may have seen recently in the news. \n",
    "- $D$: the Democratic candidate wins at least 270 electoral college votes (and thus the presidential election)\n",
    "- $R$: the Republican candidate wins at least 270 electoral college votes (and thus the presidential election) \n",
    "- $U$: neither candidate gets 270 electoral college votes and the election is undecided.\n",
    "\n",
    "### How you will do it\n",
    "To do so, model the uncertainty in the poll numbers as follows. For each simulation:\n",
    "1. For each state independently draw 0-mean normally distributed random `noise` for a given standard deviation estimate $\\sigma$. You can do so, for example, using [numpy.random.normal](https://numpy.org/doc/stable/reference/random/generated/numpy.random.normal.html). This reflects the assumption that the poll numbers are not certain and could vary in either direction by one or two standard deviations.\n",
    "2. Add `noise` (independently for each state) to `d_percent` and subtract `noise` from `r_percent`. So if you get `noise = 1.5`, `d_percent = 42`, and `r_percent = 57` you would get `43.5` for the new `d_percent` and `55.5` for the new `r_percent`. \n",
    "\n",
    "Then for a given simulation you can check which of $D$, $R$, or $U$ occur by checking, for each state, which candidate gets a larger share of the vote, and adding up their electoral votes accross all of the states.\n",
    "\n",
    "Make sure that **each simulation starts with the original values** from the `polls` dataset not the results from the previous simulation. \n",
    "\n",
    "Code the simulation and then **run 10,000 simulations for each of the following values of $\\sigma$: 1, 5, and 10. For each, report the empirical probability of the events $D$, $R$, and $U$.** You should therefore have a total of 9 values. Report your values by creating three lists `q5_1`, `q5_5`, and `q5_10`, one for each $\\sigma$. The first value of each list is the number of simulations the Democrats won, the second value is the number the Republicans won, and the final value is for Undecided.\n",
    "\n",
    "It may take a few seconds for your simulations to run, but if they are running for minutes, you are likely writing inefficient loops instead of taking advantage of efficient Pandas and Numpy operations. You will need one loop over the 10,000 simulations but should not need any others.\n",
    "\n",
    "*Hint: We recommend that you write the following functions:*\n",
    "1. A function that takes a `DataFrame` of votes where the noise has already been added and returns who has won based on the electoral college votes per state.\n",
    "1. A function that simulates an election by taking a `DataFrame` of vote/poll data and a standard deviation and adds noise.\n",
    "1. A function that runs all the simulations for a specific standard deviation.\n",
    "\n",
    "It'll make your code easier to write and understand.\n",
    "\n",
    "### Submission Instructions\n",
    "For the sake of consistency and easy debugging, we recommend that you do the following when you are ready to submit:\n",
    "1. Surround your code with triple quotes (e.g. `''' <code here in many lines> '''`, see example below).\n",
    "1. Outside the triple quotes, manually assign the values of `q5_1`, `q5_5`, and `q5_10` with the values of the last time you ran your code.\n",
    "\n",
    "Keep your code in your notebook so that it can be manually graded. But we do not want the autograder to timeout and therefore give you a 0."
   ]
  },
  {
   "cell_type": "code",
   "execution_count": 6,
   "metadata": {},
   "outputs": [
    {
     "data": {
      "text/html": [
       "<div>\n",
       "<style scoped>\n",
       "    .dataframe tbody tr th:only-of-type {\n",
       "        vertical-align: middle;\n",
       "    }\n",
       "\n",
       "    .dataframe tbody tr th {\n",
       "        vertical-align: top;\n",
       "    }\n",
       "\n",
       "    .dataframe thead th {\n",
       "        text-align: right;\n",
       "    }\n",
       "</style>\n",
       "<table border=\"1\" class=\"dataframe\">\n",
       "  <thead>\n",
       "    <tr style=\"text-align: right;\">\n",
       "      <th></th>\n",
       "      <th>state</th>\n",
       "      <th>d_percent</th>\n",
       "      <th>r_percent</th>\n",
       "      <th>ec_weight</th>\n",
       "    </tr>\n",
       "  </thead>\n",
       "  <tbody>\n",
       "    <tr>\n",
       "      <td>0</td>\n",
       "      <td>alabama</td>\n",
       "      <td>37</td>\n",
       "      <td>62</td>\n",
       "      <td>9</td>\n",
       "    </tr>\n",
       "    <tr>\n",
       "      <td>1</td>\n",
       "      <td>alaska</td>\n",
       "      <td>44</td>\n",
       "      <td>55</td>\n",
       "      <td>3</td>\n",
       "    </tr>\n",
       "    <tr>\n",
       "      <td>2</td>\n",
       "      <td>arizona</td>\n",
       "      <td>50</td>\n",
       "      <td>49</td>\n",
       "      <td>11</td>\n",
       "    </tr>\n",
       "    <tr>\n",
       "      <td>3</td>\n",
       "      <td>arkansas</td>\n",
       "      <td>35</td>\n",
       "      <td>64</td>\n",
       "      <td>6</td>\n",
       "    </tr>\n",
       "    <tr>\n",
       "      <td>4</td>\n",
       "      <td>california</td>\n",
       "      <td>64</td>\n",
       "      <td>35</td>\n",
       "      <td>55</td>\n",
       "    </tr>\n",
       "  </tbody>\n",
       "</table>\n",
       "</div>"
      ],
      "text/plain": [
       "        state  d_percent  r_percent  ec_weight\n",
       "0     alabama         37         62          9\n",
       "1      alaska         44         55          3\n",
       "2     arizona         50         49         11\n",
       "3    arkansas         35         64          6\n",
       "4  california         64         35         55"
      ]
     },
     "execution_count": 6,
     "metadata": {},
     "output_type": "execute_result"
    }
   ],
   "source": [
    "import pandas as pd\n",
    "polls = pd.read_csv(\"polls.csv\")\n",
    "polls.head()"
   ]
  },
  {
   "cell_type": "code",
   "execution_count": 8,
   "metadata": {},
   "outputs": [
    {
     "name": "stdout",
     "output_type": "stream",
     "text": [
      "[9221, 627, 152]\n",
      "[8170, 1739, 91]\n",
      "[7458, 2446, 96]\n"
     ]
    }
   ],
   "source": [
    "import numpy as np\n",
    "'''\n",
    "def the_winner(poll):\n",
    "    winner = 'a'\n",
    "    \n",
    "    demwins = poll['d_percent'] > poll['r_percent']\n",
    "    ec_d = np.sum(poll[demwins]['ec_weight'])\n",
    "    repwins = poll['d_percent'] < poll['r_percent']\n",
    "    ec_r = np.sum(poll[repwins]['ec_weight'])\n",
    "   \n",
    "    if(ec_d >= 270):\n",
    "        winner = 'd'\n",
    "    elif(ec_r >= 270):\n",
    "        winner = 'r'\n",
    "    else:\n",
    "        winner = 'u'\n",
    "    return winner\n",
    "\n",
    "def winner_with_noise(poll, sd):\n",
    "    poll1 = poll.copy()\n",
    "    noise = np.random.normal(0, sd, poll.shape[0])\n",
    "    poll1['d_percent'] += noise\n",
    "    poll1['r_percent'] -= noise\n",
    "    return the_winner(poll1)\n",
    "\n",
    "def simulation(poll, sd):\n",
    "    numD = 0\n",
    "    numR = 0\n",
    "    numU = 0\n",
    "    for i in range(10000):\n",
    "        win = winner_with_noise(poll, sd)\n",
    "        if(win == 'd'):\n",
    "            numD += 1\n",
    "        elif(win== 'r'):\n",
    "            numR += 1\n",
    "        else:\n",
    "            numU += 1\n",
    "    return[numD, numR, numU]\n",
    "\n",
    "q5_1 = simulation(polls, 1) \n",
    "q5_5 = simulation(polls, 5) \n",
    "q5_10 = simulation(polls, 10)\n",
    "\n",
    "print(q5_1)\n",
    "print(q5_5)\n",
    "print(q5_10)\n",
    "'''\n",
    "q5_1 = [9221, 627, 152]\n",
    "q5_5 = [8170, 1739, 91]\n",
    "q5_10 = [7458, 2446, 96]"
   ]
  },
  {
   "cell_type": "markdown",
   "metadata": {},
   "source": [
    "_Type your answer here, replacing this text._"
   ]
  }
 ],
 "metadata": {
  "kernelspec": {
   "display_name": "Python 3",
   "language": "python",
   "name": "python3"
  },
  "language_info": {
   "codemirror_mode": {
    "name": "ipython",
    "version": 3
   },
   "file_extension": ".py",
   "mimetype": "text/x-python",
   "name": "python",
   "nbconvert_exporter": "python",
   "pygments_lexer": "ipython3",
   "version": "3.7.4"
  }
 },
 "nbformat": 4,
 "nbformat_minor": 4
}
